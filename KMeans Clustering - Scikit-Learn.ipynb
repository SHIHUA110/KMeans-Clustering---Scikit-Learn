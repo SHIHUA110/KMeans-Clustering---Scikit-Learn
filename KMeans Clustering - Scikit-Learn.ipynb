{
 "cells": [
  {
   "cell_type": "code",
   "execution_count": 1,
   "metadata": {
    "collapsed": false
   },
   "outputs": [],
   "source": [
    "import numpy as np, pandas as pd\n",
    "from sklearn.cluster import KMeans\n",
    "from sklearn.preprocessing import scale\n",
    "import matplotlib.pyplot as plt\n",
    "plt.style.use('ggplot')\n",
    "%matplotlib inline"
   ]
  },
  {
   "cell_type": "markdown",
   "metadata": {
    "collapsed": true
   },
   "source": [
    "# Scenario\n",
    "We are the lead data analists at Ubank. The bank consists of 5000 customers and we were tasked with segmenting them into 3\n",
    "homogeneous groups, then define these groups.\n",
    "\n",
    "Since we know how exactly how many groups we want, we'll apply the KMeans unsupervised machine learning technique.Also, it will\n",
    "prove usful because it will allow us to cross examine the groups features with the bank related activity in order to potentialy\n",
    "predict new customers behavior while. Let's get to it!"
   ]
  },
  {
   "cell_type": "markdown",
   "metadata": {},
   "source": [
    "<img src=\"files/Kmeans_Features.png\">"
   ]
  },
  {
   "cell_type": "markdown",
   "metadata": {},
   "source": [
    "First we'll load and take a look at our initial data."
   ]
  },
  {
   "cell_type": "code",
   "execution_count": 2,
   "metadata": {
    "collapsed": false
   },
   "outputs": [
    {
     "data": {
      "text/html": [
       "<div>\n",
       "<table border=\"1\" class=\"dataframe\">\n",
       "  <thead>\n",
       "    <tr style=\"text-align: right;\">\n",
       "      <th></th>\n",
       "      <th>ID</th>\n",
       "      <th>Age</th>\n",
       "      <th>Experience</th>\n",
       "      <th>Income</th>\n",
       "      <th>Family</th>\n",
       "      <th>CCAvg</th>\n",
       "      <th>Mortgage</th>\n",
       "      <th>Education</th>\n",
       "      <th>SecuritiesAccount</th>\n",
       "      <th>CDAccount</th>\n",
       "      <th>Online</th>\n",
       "      <th>CreditCard</th>\n",
       "      <th>PersonalLoan</th>\n",
       "    </tr>\n",
       "  </thead>\n",
       "  <tbody>\n",
       "    <tr>\n",
       "      <th>0</th>\n",
       "      <td>1</td>\n",
       "      <td>25</td>\n",
       "      <td>1</td>\n",
       "      <td>49</td>\n",
       "      <td>4</td>\n",
       "      <td>1.6</td>\n",
       "      <td>0</td>\n",
       "      <td>1</td>\n",
       "      <td>1</td>\n",
       "      <td>0</td>\n",
       "      <td>0</td>\n",
       "      <td>0</td>\n",
       "      <td>0</td>\n",
       "    </tr>\n",
       "    <tr>\n",
       "      <th>1</th>\n",
       "      <td>2</td>\n",
       "      <td>45</td>\n",
       "      <td>19</td>\n",
       "      <td>34</td>\n",
       "      <td>3</td>\n",
       "      <td>1.5</td>\n",
       "      <td>0</td>\n",
       "      <td>1</td>\n",
       "      <td>1</td>\n",
       "      <td>0</td>\n",
       "      <td>0</td>\n",
       "      <td>0</td>\n",
       "      <td>0</td>\n",
       "    </tr>\n",
       "    <tr>\n",
       "      <th>2</th>\n",
       "      <td>3</td>\n",
       "      <td>39</td>\n",
       "      <td>15</td>\n",
       "      <td>11</td>\n",
       "      <td>1</td>\n",
       "      <td>1.0</td>\n",
       "      <td>0</td>\n",
       "      <td>1</td>\n",
       "      <td>0</td>\n",
       "      <td>0</td>\n",
       "      <td>0</td>\n",
       "      <td>0</td>\n",
       "      <td>0</td>\n",
       "    </tr>\n",
       "    <tr>\n",
       "      <th>3</th>\n",
       "      <td>4</td>\n",
       "      <td>35</td>\n",
       "      <td>9</td>\n",
       "      <td>100</td>\n",
       "      <td>1</td>\n",
       "      <td>2.7</td>\n",
       "      <td>0</td>\n",
       "      <td>2</td>\n",
       "      <td>0</td>\n",
       "      <td>0</td>\n",
       "      <td>0</td>\n",
       "      <td>0</td>\n",
       "      <td>0</td>\n",
       "    </tr>\n",
       "    <tr>\n",
       "      <th>4</th>\n",
       "      <td>5</td>\n",
       "      <td>35</td>\n",
       "      <td>8</td>\n",
       "      <td>45</td>\n",
       "      <td>4</td>\n",
       "      <td>1.0</td>\n",
       "      <td>0</td>\n",
       "      <td>2</td>\n",
       "      <td>0</td>\n",
       "      <td>0</td>\n",
       "      <td>0</td>\n",
       "      <td>1</td>\n",
       "      <td>0</td>\n",
       "    </tr>\n",
       "  </tbody>\n",
       "</table>\n",
       "</div>"
      ],
      "text/plain": [
       "   ID  Age  Experience  Income  Family  CCAvg  Mortgage  Education  \\\n",
       "0   1   25           1      49       4    1.6         0          1   \n",
       "1   2   45          19      34       3    1.5         0          1   \n",
       "2   3   39          15      11       1    1.0         0          1   \n",
       "3   4   35           9     100       1    2.7         0          2   \n",
       "4   5   35           8      45       4    1.0         0          2   \n",
       "\n",
       "   SecuritiesAccount  CDAccount  Online  CreditCard  PersonalLoan  \n",
       "0                  1          0       0           0             0  \n",
       "1                  1          0       0           0             0  \n",
       "2                  0          0       0           0             0  \n",
       "3                  0          0       0           0             0  \n",
       "4                  0          0       0           1             0  "
      ]
     },
     "execution_count": 2,
     "metadata": {},
     "output_type": "execute_result"
    }
   ],
   "source": [
    "ubank = pd.read_csv('ubank.csv')\n",
    "ubank.head()"
   ]
  },
  {
   "cell_type": "markdown",
   "metadata": {},
   "source": [
    "We have been instructed to differentiate the groups based on the features \"Age\"-\"Mortgage\". So we'll define a new DataFrame\n",
    "to work with."
   ]
  },
  {
   "cell_type": "code",
   "execution_count": 3,
   "metadata": {
    "collapsed": false
   },
   "outputs": [
    {
     "data": {
      "text/html": [
       "<div>\n",
       "<table border=\"1\" class=\"dataframe\">\n",
       "  <thead>\n",
       "    <tr style=\"text-align: right;\">\n",
       "      <th></th>\n",
       "      <th>Age</th>\n",
       "      <th>Experience</th>\n",
       "      <th>Income</th>\n",
       "      <th>Family</th>\n",
       "      <th>CCAvg</th>\n",
       "      <th>Mortgage</th>\n",
       "    </tr>\n",
       "  </thead>\n",
       "  <tbody>\n",
       "    <tr>\n",
       "      <th>0</th>\n",
       "      <td>25</td>\n",
       "      <td>1</td>\n",
       "      <td>49</td>\n",
       "      <td>4</td>\n",
       "      <td>1.6</td>\n",
       "      <td>0</td>\n",
       "    </tr>\n",
       "    <tr>\n",
       "      <th>1</th>\n",
       "      <td>45</td>\n",
       "      <td>19</td>\n",
       "      <td>34</td>\n",
       "      <td>3</td>\n",
       "      <td>1.5</td>\n",
       "      <td>0</td>\n",
       "    </tr>\n",
       "    <tr>\n",
       "      <th>2</th>\n",
       "      <td>39</td>\n",
       "      <td>15</td>\n",
       "      <td>11</td>\n",
       "      <td>1</td>\n",
       "      <td>1.0</td>\n",
       "      <td>0</td>\n",
       "    </tr>\n",
       "    <tr>\n",
       "      <th>3</th>\n",
       "      <td>35</td>\n",
       "      <td>9</td>\n",
       "      <td>100</td>\n",
       "      <td>1</td>\n",
       "      <td>2.7</td>\n",
       "      <td>0</td>\n",
       "    </tr>\n",
       "    <tr>\n",
       "      <th>4</th>\n",
       "      <td>35</td>\n",
       "      <td>8</td>\n",
       "      <td>45</td>\n",
       "      <td>4</td>\n",
       "      <td>1.0</td>\n",
       "      <td>0</td>\n",
       "    </tr>\n",
       "  </tbody>\n",
       "</table>\n",
       "</div>"
      ],
      "text/plain": [
       "   Age  Experience  Income  Family  CCAvg  Mortgage\n",
       "0   25           1      49       4    1.6         0\n",
       "1   45          19      34       3    1.5         0\n",
       "2   39          15      11       1    1.0         0\n",
       "3   35           9     100       1    2.7         0\n",
       "4   35           8      45       4    1.0         0"
      ]
     },
     "execution_count": 3,
     "metadata": {},
     "output_type": "execute_result"
    }
   ],
   "source": [
    "df = ubank.iloc[:,1:7]\n",
    "df.head()"
   ]
  },
  {
   "cell_type": "markdown",
   "metadata": {},
   "source": [
    "Before we get started, we should check for any missing data in order to avoide future errors. Data seems to be fine."
   ]
  },
  {
   "cell_type": "code",
   "execution_count": 4,
   "metadata": {
    "collapsed": false
   },
   "outputs": [
    {
     "data": {
      "text/plain": [
       "False"
      ]
     },
     "execution_count": 4,
     "metadata": {},
     "output_type": "execute_result"
    }
   ],
   "source": [
    "df.isnull().values.any()"
   ]
  },
  {
   "cell_type": "markdown",
   "metadata": {},
   "source": [
    "Alright, everything is set and we're good to go!\n",
    "We'll scale our data first in order to properly analyze it. The scale function will return a normalized matrix. so we need to\n",
    "convert it back to a Dataframe."
   ]
  },
  {
   "cell_type": "code",
   "execution_count": 5,
   "metadata": {
    "collapsed": false
   },
   "outputs": [
    {
     "data": {
      "text/html": [
       "<div>\n",
       "<table border=\"1\" class=\"dataframe\">\n",
       "  <thead>\n",
       "    <tr style=\"text-align: right;\">\n",
       "      <th></th>\n",
       "      <th>Age</th>\n",
       "      <th>Experience</th>\n",
       "      <th>Income</th>\n",
       "      <th>Family</th>\n",
       "      <th>CCAvg</th>\n",
       "      <th>Mortgage</th>\n",
       "    </tr>\n",
       "  </thead>\n",
       "  <tbody>\n",
       "    <tr>\n",
       "      <th>0</th>\n",
       "      <td>-1.774417</td>\n",
       "      <td>-1.666078</td>\n",
       "      <td>-0.538229</td>\n",
       "      <td>1.397414</td>\n",
       "      <td>-0.193371</td>\n",
       "      <td>-0.555524</td>\n",
       "    </tr>\n",
       "    <tr>\n",
       "      <th>1</th>\n",
       "      <td>-0.029524</td>\n",
       "      <td>-0.096330</td>\n",
       "      <td>-0.864109</td>\n",
       "      <td>0.525991</td>\n",
       "      <td>-0.250595</td>\n",
       "      <td>-0.555524</td>\n",
       "    </tr>\n",
       "    <tr>\n",
       "      <th>2</th>\n",
       "      <td>-0.552992</td>\n",
       "      <td>-0.445163</td>\n",
       "      <td>-1.363793</td>\n",
       "      <td>-1.216855</td>\n",
       "      <td>-0.536720</td>\n",
       "      <td>-0.555524</td>\n",
       "    </tr>\n",
       "    <tr>\n",
       "      <th>3</th>\n",
       "      <td>-0.901970</td>\n",
       "      <td>-0.968413</td>\n",
       "      <td>0.569765</td>\n",
       "      <td>-1.216855</td>\n",
       "      <td>0.436103</td>\n",
       "      <td>-0.555524</td>\n",
       "    </tr>\n",
       "    <tr>\n",
       "      <th>4</th>\n",
       "      <td>-0.901970</td>\n",
       "      <td>-1.055621</td>\n",
       "      <td>-0.625130</td>\n",
       "      <td>1.397414</td>\n",
       "      <td>-0.536720</td>\n",
       "      <td>-0.555524</td>\n",
       "    </tr>\n",
       "  </tbody>\n",
       "</table>\n",
       "</div>"
      ],
      "text/plain": [
       "        Age  Experience    Income    Family     CCAvg  Mortgage\n",
       "0 -1.774417   -1.666078 -0.538229  1.397414 -0.193371 -0.555524\n",
       "1 -0.029524   -0.096330 -0.864109  0.525991 -0.250595 -0.555524\n",
       "2 -0.552992   -0.445163 -1.363793 -1.216855 -0.536720 -0.555524\n",
       "3 -0.901970   -0.968413  0.569765 -1.216855  0.436103 -0.555524\n",
       "4 -0.901970   -1.055621 -0.625130  1.397414 -0.536720 -0.555524"
      ]
     },
     "execution_count": 5,
     "metadata": {},
     "output_type": "execute_result"
    }
   ],
   "source": [
    "scaled_df = pd.DataFrame(scale(df), columns=df.columns)\n",
    "scaled_df.head()"
   ]
  },
  {
   "cell_type": "markdown",
   "metadata": {},
   "source": [
    "Now we'll applly the KMeans algorithm on our data. Remember, our k=3 because that's the number of groups we want. We'll also\n",
    "set a seed value so results stay consistant. Note: random_state is set to 1234 in order to get consistant results.\n"
   ]
  },
  {
   "cell_type": "code",
   "execution_count": 6,
   "metadata": {
    "collapsed": false
   },
   "outputs": [
    {
     "data": {
      "text/plain": [
       "KMeans(algorithm='auto', copy_x=True, init='k-means++', max_iter=300,\n",
       "    n_clusters=3, n_init=10, n_jobs=1, precompute_distances='auto',\n",
       "    random_state=1234, tol=0.0001, verbose=0)"
      ]
     },
     "execution_count": 6,
     "metadata": {},
     "output_type": "execute_result"
    }
   ],
   "source": [
    "clf = KMeans(n_clusters=3, random_state=1234)\n",
    "clf.fit(scaled_df)"
   ]
  },
  {
   "cell_type": "markdown",
   "metadata": {},
   "source": [
    "We now have our clusters and centroids, let's take a look at them."
   ]
  },
  {
   "cell_type": "code",
   "execution_count": 7,
   "metadata": {
    "collapsed": false
   },
   "outputs": [
    {
     "data": {
      "text/plain": [
       "array([[ 0.88450844,  0.87884575, -0.33604117, -0.00782113, -0.33383563,\n",
       "        -0.11758488],\n",
       "       [-0.89686385, -0.89808758, -0.29827152,  0.18770967, -0.32362705,\n",
       "        -0.10490171],\n",
       "       [-0.14362878, -0.12609341,  1.57888046, -0.42758295,  1.63367176,\n",
       "         0.5537406 ]])"
      ]
     },
     "execution_count": 7,
     "metadata": {},
     "output_type": "execute_result"
    }
   ],
   "source": [
    "centroids = clf.cluster_centers_\n",
    "centroids"
   ]
  },
  {
   "cell_type": "markdown",
   "metadata": {},
   "source": [
    "Note that each point(customer) has been labeld/assigned to a cluster."
   ]
  },
  {
   "cell_type": "code",
   "execution_count": 8,
   "metadata": {
    "collapsed": false
   },
   "outputs": [
    {
     "data": {
      "text/plain": [
       "array([1, 1, 1, ..., 0, 0, 1])"
      ]
     },
     "execution_count": 8,
     "metadata": {},
     "output_type": "execute_result"
    }
   ],
   "source": [
    "labels = clf.labels_\n",
    "labels"
   ]
  },
  {
   "cell_type": "markdown",
   "metadata": {},
   "source": [
    "We have clusters 0-2 (three clusters) to which each customer is assigned, just like we wanted. Let's create a new column\n",
    "in our original DataFrame(ubank) in order to better associate each customer to their assigned cluster.\n",
    "We'll also add the cluster column to the working DataFrame for additional analysis."
   ]
  },
  {
   "cell_type": "code",
   "execution_count": 9,
   "metadata": {
    "collapsed": false
   },
   "outputs": [
    {
     "data": {
      "text/html": [
       "<div>\n",
       "<table border=\"1\" class=\"dataframe\">\n",
       "  <thead>\n",
       "    <tr style=\"text-align: right;\">\n",
       "      <th></th>\n",
       "      <th>ID</th>\n",
       "      <th>Age</th>\n",
       "      <th>Experience</th>\n",
       "      <th>Income</th>\n",
       "      <th>Family</th>\n",
       "      <th>CCAvg</th>\n",
       "      <th>Mortgage</th>\n",
       "      <th>Education</th>\n",
       "      <th>SecuritiesAccount</th>\n",
       "      <th>CDAccount</th>\n",
       "      <th>Online</th>\n",
       "      <th>CreditCard</th>\n",
       "      <th>PersonalLoan</th>\n",
       "      <th>cluster</th>\n",
       "    </tr>\n",
       "  </thead>\n",
       "  <tbody>\n",
       "    <tr>\n",
       "      <th>4995</th>\n",
       "      <td>4996</td>\n",
       "      <td>29</td>\n",
       "      <td>3</td>\n",
       "      <td>40</td>\n",
       "      <td>1</td>\n",
       "      <td>1.9</td>\n",
       "      <td>0</td>\n",
       "      <td>3</td>\n",
       "      <td>0</td>\n",
       "      <td>0</td>\n",
       "      <td>1</td>\n",
       "      <td>0</td>\n",
       "      <td>0</td>\n",
       "      <td>1</td>\n",
       "    </tr>\n",
       "    <tr>\n",
       "      <th>4996</th>\n",
       "      <td>4997</td>\n",
       "      <td>30</td>\n",
       "      <td>4</td>\n",
       "      <td>15</td>\n",
       "      <td>4</td>\n",
       "      <td>0.4</td>\n",
       "      <td>85</td>\n",
       "      <td>1</td>\n",
       "      <td>0</td>\n",
       "      <td>0</td>\n",
       "      <td>1</td>\n",
       "      <td>0</td>\n",
       "      <td>0</td>\n",
       "      <td>1</td>\n",
       "    </tr>\n",
       "    <tr>\n",
       "      <th>4997</th>\n",
       "      <td>4998</td>\n",
       "      <td>63</td>\n",
       "      <td>39</td>\n",
       "      <td>24</td>\n",
       "      <td>2</td>\n",
       "      <td>0.3</td>\n",
       "      <td>0</td>\n",
       "      <td>3</td>\n",
       "      <td>0</td>\n",
       "      <td>0</td>\n",
       "      <td>0</td>\n",
       "      <td>0</td>\n",
       "      <td>0</td>\n",
       "      <td>0</td>\n",
       "    </tr>\n",
       "    <tr>\n",
       "      <th>4998</th>\n",
       "      <td>4999</td>\n",
       "      <td>65</td>\n",
       "      <td>40</td>\n",
       "      <td>49</td>\n",
       "      <td>3</td>\n",
       "      <td>0.5</td>\n",
       "      <td>0</td>\n",
       "      <td>2</td>\n",
       "      <td>0</td>\n",
       "      <td>0</td>\n",
       "      <td>1</td>\n",
       "      <td>0</td>\n",
       "      <td>0</td>\n",
       "      <td>0</td>\n",
       "    </tr>\n",
       "    <tr>\n",
       "      <th>4999</th>\n",
       "      <td>5000</td>\n",
       "      <td>28</td>\n",
       "      <td>4</td>\n",
       "      <td>83</td>\n",
       "      <td>3</td>\n",
       "      <td>0.8</td>\n",
       "      <td>0</td>\n",
       "      <td>1</td>\n",
       "      <td>0</td>\n",
       "      <td>0</td>\n",
       "      <td>1</td>\n",
       "      <td>1</td>\n",
       "      <td>0</td>\n",
       "      <td>1</td>\n",
       "    </tr>\n",
       "  </tbody>\n",
       "</table>\n",
       "</div>"
      ],
      "text/plain": [
       "        ID  Age  Experience  Income  Family  CCAvg  Mortgage  Education  \\\n",
       "4995  4996   29           3      40       1    1.9         0          3   \n",
       "4996  4997   30           4      15       4    0.4        85          1   \n",
       "4997  4998   63          39      24       2    0.3         0          3   \n",
       "4998  4999   65          40      49       3    0.5         0          2   \n",
       "4999  5000   28           4      83       3    0.8         0          1   \n",
       "\n",
       "      SecuritiesAccount  CDAccount  Online  CreditCard  PersonalLoan  cluster  \n",
       "4995                  0          0       1           0             0        1  \n",
       "4996                  0          0       1           0             0        1  \n",
       "4997                  0          0       0           0             0        0  \n",
       "4998                  0          0       1           0             0        0  \n",
       "4999                  0          0       1           1             0        1  "
      ]
     },
     "execution_count": 9,
     "metadata": {},
     "output_type": "execute_result"
    }
   ],
   "source": [
    "df['cluster'] = labels\n",
    "ubank['cluster'] = labels\n",
    "ubank.tail()"
   ]
  },
  {
   "cell_type": "markdown",
   "metadata": {},
   "source": [
    "Great, now let's start working and analyze our results. I.E, this is where the fun begins!\n",
    "We should first take a look at the size of our clusters."
   ]
  },
  {
   "cell_type": "code",
   "execution_count": 10,
   "metadata": {
    "collapsed": false
   },
   "outputs": [
    {
     "data": {
      "text/plain": [
       "0    2163\n",
       "1    1999\n",
       "2     838\n",
       "Name: cluster, dtype: int64"
      ]
     },
     "execution_count": 10,
     "metadata": {},
     "output_type": "execute_result"
    }
   ],
   "source": [
    "ubank['cluster'].value_counts()"
   ]
  },
  {
   "cell_type": "markdown",
   "metadata": {},
   "source": [
    "We can see that we have two groups of similar sizes and one small group. We'll take a look at the euclidian distance between\n",
    "the largest group and the smallest group centroids."
   ]
  },
  {
   "cell_type": "code",
   "execution_count": 11,
   "metadata": {
    "collapsed": false
   },
   "outputs": [
    {
     "data": {
      "text/plain": [
       "3.1987273918933057"
      ]
     },
     "execution_count": 11,
     "metadata": {},
     "output_type": "execute_result"
    }
   ],
   "source": [
    "centroids_distance = np.linalg.norm(centroids[0]-centroids[2])\n",
    "centroids_distance"
   ]
  },
  {
   "cell_type": "markdown",
   "metadata": {},
   "source": [
    "OK, it's time to find out what characterizes each cluster/group.\n",
    "But before that we'll drop the ID column due to it's lack of significance."
   ]
  },
  {
   "cell_type": "code",
   "execution_count": 12,
   "metadata": {
    "collapsed": false
   },
   "outputs": [],
   "source": [
    "ubank.drop('ID', 1, inplace=True)"
   ]
  },
  {
   "cell_type": "markdown",
   "metadata": {},
   "source": [
    "Education is an important value we wan't to look at, but we need to better classify the Education column \n",
    "in order to get a clearer look at our results seeing that it's an ordinal feature. We'll make a frequency tbale."
   ]
  },
  {
   "cell_type": "code",
   "execution_count": 13,
   "metadata": {
    "collapsed": false
   },
   "outputs": [
    {
     "data": {
      "text/html": [
       "<div>\n",
       "<table border=\"1\" class=\"dataframe\">\n",
       "  <thead>\n",
       "    <tr style=\"text-align: right;\">\n",
       "      <th>Education</th>\n",
       "      <th>1</th>\n",
       "      <th>2</th>\n",
       "      <th>3</th>\n",
       "      <th>All</th>\n",
       "    </tr>\n",
       "    <tr>\n",
       "      <th>cluster</th>\n",
       "      <th></th>\n",
       "      <th></th>\n",
       "      <th></th>\n",
       "      <th></th>\n",
       "    </tr>\n",
       "  </thead>\n",
       "  <tbody>\n",
       "    <tr>\n",
       "      <th>0</th>\n",
       "      <td>16.40</td>\n",
       "      <td>12.82</td>\n",
       "      <td>14.04</td>\n",
       "      <td>43.26</td>\n",
       "    </tr>\n",
       "    <tr>\n",
       "      <th>1</th>\n",
       "      <td>15.10</td>\n",
       "      <td>12.52</td>\n",
       "      <td>12.36</td>\n",
       "      <td>39.98</td>\n",
       "    </tr>\n",
       "    <tr>\n",
       "      <th>2</th>\n",
       "      <td>10.42</td>\n",
       "      <td>2.72</td>\n",
       "      <td>3.62</td>\n",
       "      <td>16.76</td>\n",
       "    </tr>\n",
       "    <tr>\n",
       "      <th>All</th>\n",
       "      <td>41.92</td>\n",
       "      <td>28.06</td>\n",
       "      <td>30.02</td>\n",
       "      <td>100.00</td>\n",
       "    </tr>\n",
       "  </tbody>\n",
       "</table>\n",
       "</div>"
      ],
      "text/plain": [
       "Education      1      2      3     All\n",
       "cluster                               \n",
       "0          16.40  12.82  14.04   43.26\n",
       "1          15.10  12.52  12.36   39.98\n",
       "2          10.42   2.72   3.62   16.76\n",
       "All        41.92  28.06  30.02  100.00"
      ]
     },
     "execution_count": 13,
     "metadata": {},
     "output_type": "execute_result"
    },
    {
     "data": {
      "image/png": "[encoded data removed]",
      "text/plain": [
       "<matplotlib.figure.Figure at 0x2a689013b38>"
      ]
     },
     "metadata": {},
     "output_type": "display_data"
    }
   ],
   "source": [
    "edu = pd.crosstab(index=ubank[\"cluster\"], columns=ubank[\"Education\"], margins=True)\n",
    "edu = (edu/edu.ix[-1,-1])*100\n",
    "edu.iloc[:-1, :-1].plot(kind='bar', stacked=True)\n",
    "edu"
   ]
  },
  {
   "cell_type": "markdown",
   "metadata": {},
   "source": [
    "We will also examine the other features of our dataset that are nominal variables via frequency tables.\n",
    "features \"SecuritiesAccount\" - \"PersonalLoan\"."
   ]
  },
  {
   "cell_type": "code",
   "execution_count": 14,
   "metadata": {
    "collapsed": false
   },
   "outputs": [
    {
     "data": {
      "text/html": [
       "<div>\n",
       "<table border=\"1\" class=\"dataframe\">\n",
       "  <thead>\n",
       "    <tr style=\"text-align: right;\">\n",
       "      <th>Online</th>\n",
       "      <th>0</th>\n",
       "      <th>1</th>\n",
       "      <th>All</th>\n",
       "    </tr>\n",
       "    <tr>\n",
       "      <th>cluster</th>\n",
       "      <th></th>\n",
       "      <th></th>\n",
       "      <th></th>\n",
       "    </tr>\n",
       "  </thead>\n",
       "  <tbody>\n",
       "    <tr>\n",
       "      <th>0</th>\n",
       "      <td>17.02</td>\n",
       "      <td>26.24</td>\n",
       "      <td>43.26</td>\n",
       "    </tr>\n",
       "    <tr>\n",
       "      <th>1</th>\n",
       "      <td>16.78</td>\n",
       "      <td>23.20</td>\n",
       "      <td>39.98</td>\n",
       "    </tr>\n",
       "    <tr>\n",
       "      <th>2</th>\n",
       "      <td>6.52</td>\n",
       "      <td>10.24</td>\n",
       "      <td>16.76</td>\n",
       "    </tr>\n",
       "    <tr>\n",
       "      <th>All</th>\n",
       "      <td>40.32</td>\n",
       "      <td>59.68</td>\n",
       "      <td>100.00</td>\n",
       "    </tr>\n",
       "  </tbody>\n",
       "</table>\n",
       "</div>"
      ],
      "text/plain": [
       "Online       0      1     All\n",
       "cluster                      \n",
       "0        17.02  26.24   43.26\n",
       "1        16.78  23.20   39.98\n",
       "2         6.52  10.24   16.76\n",
       "All      40.32  59.68  100.00"
      ]
     },
     "execution_count": 14,
     "metadata": {},
     "output_type": "execute_result"
    },
    {
     "data": {
      "image/png": "[encoded data removed]",
      "text/plain": [
       "<matplotlib.figure.Figure at 0x2a68a8ad0f0>"
      ]
     },
     "metadata": {},
     "output_type": "display_data"
    }
   ],
   "source": [
    "online = pd.crosstab(index=ubank['cluster'], columns=ubank['Online'], margins=True)\n",
    "online = (online/online.ix[-1,-1])*100\n",
    "online.iloc[:-1, :-1].plot(kind='bar')\n",
    "online"
   ]
  },
  {
   "cell_type": "code",
   "execution_count": 15,
   "metadata": {
    "collapsed": false
   },
   "outputs": [
    {
     "data": {
      "text/html": [
       "<div>\n",
       "<table border=\"1\" class=\"dataframe\">\n",
       "  <thead>\n",
       "    <tr style=\"text-align: right;\">\n",
       "      <th>CDAccount</th>\n",
       "      <th>0</th>\n",
       "      <th>1</th>\n",
       "      <th>All</th>\n",
       "    </tr>\n",
       "    <tr>\n",
       "      <th>cluster</th>\n",
       "      <th></th>\n",
       "      <th></th>\n",
       "      <th></th>\n",
       "    </tr>\n",
       "  </thead>\n",
       "  <tbody>\n",
       "    <tr>\n",
       "      <th>0</th>\n",
       "      <td>41.36</td>\n",
       "      <td>1.90</td>\n",
       "      <td>43.26</td>\n",
       "    </tr>\n",
       "    <tr>\n",
       "      <th>1</th>\n",
       "      <td>38.42</td>\n",
       "      <td>1.56</td>\n",
       "      <td>39.98</td>\n",
       "    </tr>\n",
       "    <tr>\n",
       "      <th>2</th>\n",
       "      <td>14.18</td>\n",
       "      <td>2.58</td>\n",
       "      <td>16.76</td>\n",
       "    </tr>\n",
       "    <tr>\n",
       "      <th>All</th>\n",
       "      <td>93.96</td>\n",
       "      <td>6.04</td>\n",
       "      <td>100.00</td>\n",
       "    </tr>\n",
       "  </tbody>\n",
       "</table>\n",
       "</div>"
      ],
      "text/plain": [
       "CDAccount      0     1     All\n",
       "cluster                       \n",
       "0          41.36  1.90   43.26\n",
       "1          38.42  1.56   39.98\n",
       "2          14.18  2.58   16.76\n",
       "All        93.96  6.04  100.00"
      ]
     },
     "execution_count": 15,
     "metadata": {},
     "output_type": "execute_result"
    },
    {
     "data": {
      "image/png": "[encoded data removed]",
      "text/plain": [
       "<matplotlib.figure.Figure at 0x2a68a9834a8>"
      ]
     },
     "metadata": {},
     "output_type": "display_data"
    }
   ],
   "source": [
    "CDAccount = pd.crosstab(index=ubank['cluster'], columns=ubank['CDAccount'], margins=True)\n",
    "CDAccount = (CDAccount/CDAccount.ix[-1,-1])*100\n",
    "CDAccount.iloc[:-1, :-1].plot(kind='bar')\n",
    "CDAccount"
   ]
  },
  {
   "cell_type": "code",
   "execution_count": 16,
   "metadata": {
    "collapsed": false
   },
   "outputs": [
    {
     "data": {
      "text/html": [
       "<div>\n",
       "<table border=\"1\" class=\"dataframe\">\n",
       "  <thead>\n",
       "    <tr style=\"text-align: right;\">\n",
       "      <th>PersonalLoan</th>\n",
       "      <th>0</th>\n",
       "      <th>1</th>\n",
       "      <th>All</th>\n",
       "    </tr>\n",
       "    <tr>\n",
       "      <th>cluster</th>\n",
       "      <th></th>\n",
       "      <th></th>\n",
       "      <th></th>\n",
       "    </tr>\n",
       "  </thead>\n",
       "  <tbody>\n",
       "    <tr>\n",
       "      <th>0</th>\n",
       "      <td>41.64</td>\n",
       "      <td>1.62</td>\n",
       "      <td>43.26</td>\n",
       "    </tr>\n",
       "    <tr>\n",
       "      <th>1</th>\n",
       "      <td>38.48</td>\n",
       "      <td>1.50</td>\n",
       "      <td>39.98</td>\n",
       "    </tr>\n",
       "    <tr>\n",
       "      <th>2</th>\n",
       "      <td>10.28</td>\n",
       "      <td>6.48</td>\n",
       "      <td>16.76</td>\n",
       "    </tr>\n",
       "    <tr>\n",
       "      <th>All</th>\n",
       "      <td>90.40</td>\n",
       "      <td>9.60</td>\n",
       "      <td>100.00</td>\n",
       "    </tr>\n",
       "  </tbody>\n",
       "</table>\n",
       "</div>"
      ],
      "text/plain": [
       "PersonalLoan      0     1     All\n",
       "cluster                          \n",
       "0             41.64  1.62   43.26\n",
       "1             38.48  1.50   39.98\n",
       "2             10.28  6.48   16.76\n",
       "All           90.40  9.60  100.00"
      ]
     },
     "execution_count": 16,
     "metadata": {},
     "output_type": "execute_result"
    },
    {
     "data": {
      "image/png": "[encoded data removed]",
      "text/plain": [
       "<matplotlib.figure.Figure at 0x2a68aa1ea58>"
      ]
     },
     "metadata": {},
     "output_type": "display_data"
    }
   ],
   "source": [
    "PersonalLoan = pd.crosstab(index=ubank['cluster'], columns=ubank['PersonalLoan'], margins=True)\n",
    "PersonalLoan = (PersonalLoan/PersonalLoan.ix[-1,-1])*100\n",
    "PersonalLoan.iloc[:-1, :-1].plot(kind='bar')\n",
    "PersonalLoan"
   ]
  },
  {
   "cell_type": "code",
   "execution_count": 17,
   "metadata": {
    "collapsed": false
   },
   "outputs": [
    {
     "data": {
      "text/html": [
       "<div>\n",
       "<table border=\"1\" class=\"dataframe\">\n",
       "  <thead>\n",
       "    <tr style=\"text-align: right;\">\n",
       "      <th>CreditCard</th>\n",
       "      <th>0</th>\n",
       "      <th>1</th>\n",
       "      <th>All</th>\n",
       "    </tr>\n",
       "    <tr>\n",
       "      <th>cluster</th>\n",
       "      <th></th>\n",
       "      <th></th>\n",
       "      <th></th>\n",
       "    </tr>\n",
       "  </thead>\n",
       "  <tbody>\n",
       "    <tr>\n",
       "      <th>0</th>\n",
       "      <td>30.32</td>\n",
       "      <td>12.94</td>\n",
       "      <td>43.26</td>\n",
       "    </tr>\n",
       "    <tr>\n",
       "      <th>1</th>\n",
       "      <td>28.56</td>\n",
       "      <td>11.42</td>\n",
       "      <td>39.98</td>\n",
       "    </tr>\n",
       "    <tr>\n",
       "      <th>2</th>\n",
       "      <td>11.72</td>\n",
       "      <td>5.04</td>\n",
       "      <td>16.76</td>\n",
       "    </tr>\n",
       "    <tr>\n",
       "      <th>All</th>\n",
       "      <td>70.60</td>\n",
       "      <td>29.40</td>\n",
       "      <td>100.00</td>\n",
       "    </tr>\n",
       "  </tbody>\n",
       "</table>\n",
       "</div>"
      ],
      "text/plain": [
       "CreditCard      0      1     All\n",
       "cluster                         \n",
       "0           30.32  12.94   43.26\n",
       "1           28.56  11.42   39.98\n",
       "2           11.72   5.04   16.76\n",
       "All         70.60  29.40  100.00"
      ]
     },
     "execution_count": 17,
     "metadata": {},
     "output_type": "execute_result"
    },
    {
     "data": {
      "image/png": "[encoded data removed]",
      "text/plain": [
       "<matplotlib.figure.Figure at 0x2a68aac1da0>"
      ]
     },
     "metadata": {},
     "output_type": "display_data"
    }
   ],
   "source": [
    "CreditCard = pd.crosstab(index=ubank['cluster'], columns=ubank['CreditCard'], margins=True)\n",
    "CreditCard = (CreditCard/CreditCard.ix[-1,-1])*100\n",
    "CreditCard.iloc[:-1, :-1].plot(kind='bar')\n",
    "CreditCard"
   ]
  },
  {
   "cell_type": "code",
   "execution_count": 18,
   "metadata": {
    "collapsed": false
   },
   "outputs": [
    {
     "data": {
      "text/html": [
       "<div>\n",
       "<table border=\"1\" class=\"dataframe\">\n",
       "  <thead>\n",
       "    <tr style=\"text-align: right;\">\n",
       "      <th>SecuritiesAccount</th>\n",
       "      <th>0</th>\n",
       "      <th>1</th>\n",
       "      <th>All</th>\n",
       "    </tr>\n",
       "    <tr>\n",
       "      <th>cluster</th>\n",
       "      <th></th>\n",
       "      <th></th>\n",
       "      <th></th>\n",
       "    </tr>\n",
       "  </thead>\n",
       "  <tbody>\n",
       "    <tr>\n",
       "      <th>0</th>\n",
       "      <td>38.82</td>\n",
       "      <td>4.44</td>\n",
       "      <td>43.26</td>\n",
       "    </tr>\n",
       "    <tr>\n",
       "      <th>1</th>\n",
       "      <td>35.76</td>\n",
       "      <td>4.22</td>\n",
       "      <td>39.98</td>\n",
       "    </tr>\n",
       "    <tr>\n",
       "      <th>2</th>\n",
       "      <td>14.98</td>\n",
       "      <td>1.78</td>\n",
       "      <td>16.76</td>\n",
       "    </tr>\n",
       "    <tr>\n",
       "      <th>All</th>\n",
       "      <td>89.56</td>\n",
       "      <td>10.44</td>\n",
       "      <td>100.00</td>\n",
       "    </tr>\n",
       "  </tbody>\n",
       "</table>\n",
       "</div>"
      ],
      "text/plain": [
       "SecuritiesAccount      0      1     All\n",
       "cluster                                \n",
       "0                  38.82   4.44   43.26\n",
       "1                  35.76   4.22   39.98\n",
       "2                  14.98   1.78   16.76\n",
       "All                89.56  10.44  100.00"
      ]
     },
     "execution_count": 18,
     "metadata": {},
     "output_type": "execute_result"
    },
    {
     "data": {
      "image/png": "[encoded data removed]",
      "text/plain": [
       "<matplotlib.figure.Figure at 0x2a68ab7bd68>"
      ]
     },
     "metadata": {},
     "output_type": "display_data"
    }
   ],
   "source": [
    "SecuritiesAccount = pd.crosstab(index=ubank['cluster'], columns=ubank['SecuritiesAccount'], margins=True)\n",
    "SecuritiesAccount = (SecuritiesAccount/SecuritiesAccount.ix[-1,-1])*100\n",
    "SecuritiesAccount.iloc[:-1, :-1].plot(kind='bar')\n",
    "SecuritiesAccount"
   ]
  },
  {
   "cell_type": "markdown",
   "metadata": {},
   "source": [
    "Let's look at the mean value of each numerical feature in our dataset."
   ]
  },
  {
   "cell_type": "code",
   "execution_count": 19,
   "metadata": {
    "collapsed": false
   },
   "outputs": [
    {
     "data": {
      "text/html": [
       "<div>\n",
       "<table border=\"1\" class=\"dataframe\">\n",
       "  <thead>\n",
       "    <tr style=\"text-align: right;\">\n",
       "      <th></th>\n",
       "      <th>Age</th>\n",
       "      <th>Experience</th>\n",
       "      <th>Income</th>\n",
       "      <th>Family</th>\n",
       "      <th>CCAvg</th>\n",
       "      <th>Mortgage</th>\n",
       "    </tr>\n",
       "    <tr>\n",
       "      <th>cluster</th>\n",
       "      <th></th>\n",
       "      <th></th>\n",
       "      <th></th>\n",
       "      <th></th>\n",
       "      <th></th>\n",
       "      <th></th>\n",
       "    </tr>\n",
       "  </thead>\n",
       "  <tbody>\n",
       "    <tr>\n",
       "      <th>0</th>\n",
       "      <td>55.476653</td>\n",
       "      <td>30.182154</td>\n",
       "      <td>58.306519</td>\n",
       "      <td>2.387425</td>\n",
       "      <td>1.354538</td>\n",
       "      <td>44.539991</td>\n",
       "    </tr>\n",
       "    <tr>\n",
       "      <th>1</th>\n",
       "      <td>35.058529</td>\n",
       "      <td>9.806403</td>\n",
       "      <td>60.045023</td>\n",
       "      <td>2.611806</td>\n",
       "      <td>1.372378</td>\n",
       "      <td>45.829915</td>\n",
       "    </tr>\n",
       "    <tr>\n",
       "      <th>2</th>\n",
       "      <td>43.692124</td>\n",
       "      <td>18.658711</td>\n",
       "      <td>146.448687</td>\n",
       "      <td>1.905728</td>\n",
       "      <td>4.792741</td>\n",
       "      <td>112.816229</td>\n",
       "    </tr>\n",
       "  </tbody>\n",
       "</table>\n",
       "</div>"
      ],
      "text/plain": [
       "               Age  Experience      Income    Family     CCAvg    Mortgage\n",
       "cluster                                                                   \n",
       "0        55.476653   30.182154   58.306519  2.387425  1.354538   44.539991\n",
       "1        35.058529    9.806403   60.045023  2.611806  1.372378   45.829915\n",
       "2        43.692124   18.658711  146.448687  1.905728  4.792741  112.816229"
      ]
     },
     "execution_count": 19,
     "metadata": {},
     "output_type": "execute_result"
    }
   ],
   "source": [
    "mean_df = df.groupby('cluster').mean()\n",
    "mean_df"
   ]
  },
  {
   "cell_type": "markdown",
   "metadata": {},
   "source": [
    "Looking at our table we can see some major differences between the groups.\n",
    "Age, Experience, Income, Education, CDAccount etc.\n",
    "It would be a good idea (and fun) to visualize this for upper managment."
   ]
  },
  {
   "cell_type": "code",
   "execution_count": 20,
   "metadata": {
    "collapsed": false
   },
   "outputs": [
    {
     "data": {
      "image/png": "[encoded data removed]",
      "text/plain": [
       "<matplotlib.figure.Figure at 0x2a68aa22d30>"
      ]
     },
     "metadata": {},
     "output_type": "display_data"
    }
   ],
   "source": [
    "fig, ax1, ax2, ax3, ax4, ax5, ax6 = plt.figure(figsize=(14,9)), plt.subplot2grid((2,3), (0,0)), \\\n",
    "                                    plt.subplot2grid((2,3), (0,1)), plt.subplot2grid((2,3), (0,2)),\\\n",
    "                                    plt.subplot2grid((2,3), (1,0)), plt.subplot2grid((2,3), (1,1)), plt.subplot2grid((2,3), (1,2))\n",
    "\n",
    "colors =['r', 'purple', 'b']        \n",
    "\n",
    "mean_df['Age'].plot(kind='bar', ax=ax1, title='Mean Age by Cluster', color=colors)\n",
    "ax1.set_xlabel('Cluster')\n",
    "ax1.set_ylabel('Mean Age')\n",
    "\n",
    "mean_df['Experience'].plot(kind='bar', ax=ax2, title='Mean Experience by Cluster', color=colors)\n",
    "ax2.set_xlabel('Cluster')\n",
    "ax2.set_ylabel('Mean Experience')\n",
    "\n",
    "mean_df['Income'].plot(kind='bar', ax=ax3, title='Mean Income by Cluster', color=colors)\n",
    "ax3.set_xlabel('Cluster')\n",
    "ax3.set_ylabel('Mean Income')\n",
    "\n",
    "mean_df['Family'].plot(kind='bar', stacked=True, ax=ax4, title='Family Size by Cluster', color=colors)\n",
    "ax4.set_xlabel('Cluster')\n",
    "ax4.set_ylabel('Mean Family Members')\n",
    "\n",
    "mean_df['CCAvg'].plot(kind='bar', ax=ax5, title='Mean CCAvg by Cluster', color=colors)\n",
    "ax5.set_xlabel('Cluster')\n",
    "ax5.set_ylabel('Mean CCAvg')\n",
    "\n",
    "mean_df['Mortgage'].plot(kind='bar', ax=ax6, title='Mean Mortgage by Cluster', color=colors)\n",
    "ax6.set_xlabel('Mortgage')\n",
    "ax6.set_ylabel('Cluster')\n",
    "\n",
    "plt.tight_layout()"
   ]
  },
  {
   "cell_type": "markdown",
   "metadata": {
    "collapsed": true
   },
   "source": [
    "As we can see, there are three types of groups with different characteristics.\n",
    "\n",
    "Group I (cluster 0): Older with more experience and education, yet have lower income. Pensioners.\n",
    "Group II (cluster 1): Younger with bigger family size and lower income yet seem to be rather educated but less experienced. Young Couples.\n",
    "Group III(cluster 2): Average age, high income, small family sizes, High use of bank services, fair amount of experience yet less educated. Heavy spenders, buisness men.\n",
    "\n",
    "Seems we have our groups and we know which one of them is the most profitable. Let's take this to upper management! "
   ]
  }
 ],
 "metadata": {
  "kernelspec": {
   "display_name": "Python 3",
   "language": "python",
   "name": "python3"
  },
  "language_info": {
   "codemirror_mode": {
    "name": "ipython",
    "version": 3
   },
   "file_extension": ".py",
   "mimetype": "text/x-python",
   "name": "python",
   "nbconvert_exporter": "python",
   "pygments_lexer": "ipython3",
   "version": "3.6.0"
  }
 },
 "nbformat": 4,
 "nbformat_minor": 2
}
